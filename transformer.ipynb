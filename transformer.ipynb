{
 "cells": [
  {
   "cell_type": "markdown",
   "id": "1b96f886",
   "metadata": {},
   "source": [
    "Implenntation of Transformer Arch \n",
    "\n",
    "<img src=\"image.png\" width=\"500\" height=\"600\">\n",
    "\n"
   ]
  },
  {
   "cell_type": "code",
   "execution_count": 2,
   "id": "d549f606",
   "metadata": {},
   "outputs": [],
   "source": [
    "import math\n",
    "import torch\n",
    "import torch.nn as nn\n",
    "import torch.nn.functional as F\n",
    "\n",
    "# from utils import utils"
   ]
  },
  {
   "cell_type": "code",
   "execution_count": 3,
   "id": "a7cc9e9d",
   "metadata": {},
   "outputs": [],
   "source": [
    "def initialize_weight(x):\n",
    "    nn.init.xavier_uniform_(x.weight)\n",
    "    if x.bias is not None:\n",
    "        nn.init.constant_(x.bias, 0)\n",
    "        \n",
    "        \n",
    "class FeedForwardNetwork(nn.Module):\n",
    "     def __init__(self, hidden_size, filter_size, dropout_rate):\n",
    "        super(FeedForwardNetwork, self).__init__()\n",
    "\n",
    "        self.layer1 = nn.Linear(hidden_size, filter_size)\n",
    "        self.relu = nn.ReLU()\n",
    "        self.dropout = nn.Dropout(dropout_rate)\n",
    "        self.layer2 = nn.Linear(filter_size, hidden_size)\n",
    "\n",
    "        initialize_weight(self.layer1)\n",
    "        initialize_weight(self.layer2)\n",
    "        \n",
    "     def forward(self,x):\n",
    "        x= self.layer1(x)\n",
    "        x= self.relu(x)\n",
    "        x= self.dropout(x)\n",
    "        x= self.layer(x)\n",
    "        \n",
    "        return x"
   ]
  }
 ],
 "metadata": {
  "kernelspec": {
   "display_name": "Python 3 (ipykernel)",
   "language": "python",
   "name": "python3"
  },
  "language_info": {
   "codemirror_mode": {
    "name": "ipython",
    "version": 3
   },
   "file_extension": ".py",
   "mimetype": "text/x-python",
   "name": "python",
   "nbconvert_exporter": "python",
   "pygments_lexer": "ipython3",
   "version": "3.11.11"
  }
 },
 "nbformat": 4,
 "nbformat_minor": 5
}
